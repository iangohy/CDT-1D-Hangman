{
  "nbformat": 4,
  "nbformat_minor": 0,
  "metadata": {
    "colab": {
      "name": "1D Project CTD.ipynb",
      "provenance": [],
      "collapsed_sections": [],
      "toc_visible": true
    },
    "kernelspec": {
      "display_name": "Python 3",
      "name": "python3"
    }
  },
  "cells": [
    {
      "cell_type": "markdown",
      "metadata": {
        "id": "S9YYZJMNvruI"
      },
      "source": [
        "# Computational Thinking for Design 1D Project: PyHangman\n",
        "```\n",
        "F05 Group 03\n",
        "1005042 Naurana Badalge Axel\n",
        "1005118 Ian Goh Yiheng\n",
        "1005147 Hayden Ang Wei En\n",
        "1005294 Carvalho Andrea Roby\n",
        "1005297 Mandis Loh Zhi Cheng\n",
        "```\n",
        "\n",
        "```\n",
        "A description of your game. The purpose of this description is to give the reader an idea of the game, how it is played, how you got the ideas and anything else you want to highlight. Thus it may include, in no particular order, \n",
        "A background of your game e.g. its origins \n",
        "explain its objective (e.g. score as many points as possible etc)\n",
        "how the game is to be played\n",
        "the main features in the game or the code that you wish to highlight\n",
        "citations / references to the sources that you made use of when planning this game\n",
        "\n",
        "```\n",
        "## Description\n",
        "\n",
        "### Reference:\n",
        "http://gambiter.com/paper-pencil/Hangman_game.html\n",
        "\n",
        "## Documentation\n",
        "### Running the game\n",
        "To play the game, ensure that the file `words.csv` is in the same directory as this notebook file. To start, check that `test = 0` and run all cells.\n",
        "\n",
        "### Libraries used\n",
        "This game makes use of the `sleep()` function from the `time` library, `randint()` and `sample()` functions from the `random` library and `clear_ouput()` function from the `Ipython.display` library.\n",
        "\n",
        "The global variable `test` enables/disables the unit tests for each function.\n",
        "\n",
        "### Functions\n",
        "`header()` - Displays the game header.\n",
        "\n",
        "`how_to_play()` - Displays instructions on how to play the game.\n",
        "\n",
        "`main_menu()` - Displays the main menu and returns the option selected by the user.\n",
        "\n",
        "`generate_answer()` - Generates an answer from a list of words found in `words.csv`. Returns a tuple containing `(category, answer)`.\n",
        "\n",
        "`user_answer()` - Gets user input to set the category and answer. Returns a tuple containing `(category, answer)`.\n",
        "\n",
        "`starting_letters(answer)` - Generatings the starting hints. Returns a list representing the partially filled guess.\n",
        "\n",
        "`hangman(num_wrong_guess)` - Displays the hangman based on the current number of wrong guesses.\n",
        "\n",
        "`display_interface(category, answer, guess, num_wrong_guess, max_wrong_guess)` - Displays the main game interface.\n",
        "\n",
        "`get_guess(answer)` - Gets guess from user and ensure it is a valid input. Returns a lowercase string containing a single letter guess or full word guess of length equal to that of the answer.\n",
        "\n",
        "`check_guess(answer, guess, user_input, num_wrong_guess)` - Take the user's letter guess and returns the updated guess and number of wrong guesses based on the user input.\n",
        "\n",
        "`check_solved(answer, guess)` - Checks if the player has solved the hangman question. Returns 0 if not solved and 1 if solved.\n",
        "\n",
        "`game(category, answer, max_wrong_guess)` - Runs one round of hangman. Returns 0 if round was not solved and 1 if it was solved.\n",
        "\n",
        "`single_player(max_wrong_guess)` - Starts the game for single player.\n",
        "\n",
        "`two_player(max_wrong_guess)` - Starts the game for two players.\n",
        "\n",
        "`main()` - Starts the full hangman game."
      ]
    },
    {
      "cell_type": "code",
      "metadata": {
        "id": "hjfhcQSEV71U"
      },
      "source": [
        "# Enable/Disable testing\n",
        "test = 0\n",
        "\n",
        "# Import required libraries\n",
        "from time import sleep\n",
        "from random import randint, sample\n",
        "# https://stackoverflow.com/questions/24816237/ipython-notebook-clear-cell-output-in-code\n",
        "from IPython.display import clear_output"
      ],
      "execution_count": null,
      "outputs": []
    },
    {
      "cell_type": "code",
      "metadata": {
        "id": "ykqJ5UckVWmw"
      },
      "source": [
        "def header():\n",
        "  # ASCII Art generated from http://patorjk.com/software/taag/#p=display&f=Doom&t=PyHangMan\n",
        "  print(\"\"\"=========================================================\n",
        "  ______      _   _                  ___  ___            \n",
        "| ___ \\    | | | |                 |  \\/  |            \n",
        "| |_/ /   _| |_| | __ _ _ __   __ _| .  . | __ _ _ __  \n",
        "|  __/ | | |  _  |/ _` | '_ \\ / _` | |\\/| |/ _` | '_ \\ \n",
        "| |  | |_| | | | | (_| | | | | (_| | |  | | (_| | | | |\n",
        "\\_|   \\__, \\_| |_/\\__,_|_| |_|\\__, \\_|  |_/\\__,_|_| |_|\n",
        "       __/ |                   __/ |                   \n",
        "      |___/                   |___/  \n",
        "=========================================================\"\"\")"
      ],
      "execution_count": null,
      "outputs": []
    },
    {
      "cell_type": "code",
      "metadata": {
        "id": "Azl8t6hYVpuY"
      },
      "source": [
        "if test:\n",
        "  header()"
      ],
      "execution_count": null,
      "outputs": []
    },
    {
      "cell_type": "code",
      "metadata": {
        "id": "1pXqtl2ijN3m"
      },
      "source": [
        "def how_to_play():\n",
        "  header()\n",
        "  input(\"\"\"\n",
        "---Game Modes---\n",
        "1. Single player\n",
        "  Category and word will be randomly generated by the computer.\n",
        "2. Two player\n",
        "  Users will take turn to enter category and word for the other player to guess.\n",
        "\n",
        "---How to play---\n",
        "  * With the given category, word length and visible letters, guess the word.\n",
        "  * On every turn, enter a letter as a guess.\n",
        "  * If the letter is found in the word, all instances of that letter will appear in their respective positions.\n",
        "  * If the letter is not found in the word, the number of strokes of the hangman will increase.\n",
        "  * The guessing continues until the word is solved or when the game is over.\n",
        "  * The game ends when the hangman is fully drawn.\n",
        "  Press enter to return to main menu\\n\"\"\")\n",
        "  return"
      ],
      "execution_count": null,
      "outputs": []
    },
    {
      "cell_type": "code",
      "metadata": {
        "id": "DvApPbUacJ9k"
      },
      "source": [
        "# Code to test how_to_play function\n",
        "if test:\n",
        "  how_to_play()"
      ],
      "execution_count": null,
      "outputs": []
    },
    {
      "cell_type": "code",
      "metadata": {
        "id": "Fe78LENDXc3P"
      },
      "source": [
        "def main_menu():\n",
        "  option = 0\n",
        "\n",
        "  while 1:\n",
        "    print(\"1. 1 Player game (computer chooses word)\")\n",
        "    print(\"2. 2 Player game (player 1 chooses word for player 2 to guess)\")\n",
        "    print(\"3. How to play?\")\n",
        "    option = input(\"Select an option: \")\n",
        "    if option in [\"1\", \"2\"]:\n",
        "      break\n",
        "    elif option == \"3\":\n",
        "      how_to_play()\n",
        "    else:\n",
        "      print(\">>> Invalid input!\")\n",
        "\n",
        "  return int(option)"
      ],
      "execution_count": null,
      "outputs": []
    },
    {
      "cell_type": "code",
      "metadata": {
        "id": "D4P5N0fRcQpF"
      },
      "source": [
        "# Code to test main_menu function\n",
        "if test:\n",
        "  print(\"Option returned:\", main_menu())"
      ],
      "execution_count": null,
      "outputs": []
    },
    {
      "cell_type": "code",
      "metadata": {
        "id": "EGYaULYIWOl-"
      },
      "source": [
        "from random import randint\n",
        "\n",
        "def generate_answer():\n",
        "  with open(\"words.csv\") as f:\n",
        "    \n",
        "    data = f.readlines()\n",
        "    total_words = len(data) - 1\n",
        "    rand_val = randint(1, total_words)\n",
        "    rand_ans = data[rand_val].strip()\n",
        "    rand_ans = rand_ans.split(\",\")\n",
        "    category = rand_ans[0]\n",
        "    answer = rand_ans[1]\n",
        "\n",
        "\n",
        "  return category, answer"
      ],
      "execution_count": null,
      "outputs": []
    },
    {
      "cell_type": "code",
      "metadata": {
        "id": "X7VneDghcBlG"
      },
      "source": [
        "# Code to test generate_answer funtion\n",
        "if test:\n",
        "  category, answer = generate_answer()\n",
        "  print(\"Category returned:\", category)\n",
        "  print(\"Answer returned:\", answer)"
      ],
      "execution_count": null,
      "outputs": []
    },
    {
      "cell_type": "code",
      "metadata": {
        "id": "FkyPOxzcade9"
      },
      "source": [
        "def user_answer():\n",
        "  category = input(\"\"\"\n",
        "Decide on a word for the other play to guess!\n",
        "Firstly, enter the category of your chosen word: \"\"\")\n",
        "  answer = input(\"Now enter the word: \")\n",
        "  return category, answer"
      ],
      "execution_count": null,
      "outputs": []
    },
    {
      "cell_type": "code",
      "metadata": {
        "id": "aLCaW92kb0_3"
      },
      "source": [
        "# Code to test user_answer function\n",
        "if test:\n",
        "  print(user_answer())"
      ],
      "execution_count": null,
      "outputs": []
    },
    {
      "cell_type": "code",
      "metadata": {
        "id": "9A6YJmZuduld"
      },
      "source": [
        "def starting_letters(answer):\n",
        "  length = len(answer)\n",
        "  num_hints = length // 3\n",
        "  hint_pos = sample(range(1, length), num_hints)\n",
        "\n",
        "  guess = [\"*\"] * length\n",
        "  for i in hint_pos:\n",
        "    for j in range(len(answer)):\n",
        "      if answer[j] == answer[i]:\n",
        "        guess[j] = answer[j]\n",
        "\n",
        "  return guess\n"
      ],
      "execution_count": null,
      "outputs": []
    },
    {
      "cell_type": "code",
      "metadata": {
        "id": "W_XP1u31Mw_x"
      },
      "source": [
        "if test:\n",
        "  print(starting_letters(\"alligator\"))"
      ],
      "execution_count": null,
      "outputs": []
    },
    {
      "cell_type": "code",
      "metadata": {
        "id": "f32_OhSDSCuj"
      },
      "source": [
        "def hangman(num_wrong_guess):\n",
        "  d={ 1: '---------------------',\n",
        " 2: '|                    ',\n",
        " 3: '|         |          ',\n",
        " 4: '|         O          ',\n",
        " 5: '|        /|           ',\n",
        " 6: '|       / |            ',\n",
        " 7: '|        /|\\           ',\n",
        " 8: '|       / | \\            ',\n",
        " 9: '|        /            ',\n",
        " 10: '|       /              ',\n",
        " 11: '|        / \\           ',\n",
        " 12: '|       /   \\           ' }\n",
        "\n",
        "  \"\"\"\n",
        "  Draw the hangman picture based on number of wrong guesses.\n",
        "\n",
        "  Parameters:\n",
        "  num_wrong_guess (int): Current number of wrong guesses so far\n",
        "\n",
        "  Returns:\n",
        "  None\n",
        "  \"\"\"\n",
        "  \n",
        "  if num_wrong_guess >= 1:\n",
        "    print(\"-\" * 21)\n",
        "  if num_wrong_guess == 2:\n",
        "    for i in range(10):\n",
        "      print(d[2])\n",
        "  if num_wrong_guess == 3: \n",
        "    for i in range(3):\n",
        "      print(d[3])\n",
        "    for i in range(7):\n",
        "      print(d[2])\n",
        "          \n",
        "  if num_wrong_guess == 4:\n",
        "    for i in range(3):\n",
        "      print(d[3])\n",
        "    print(d[4])\n",
        "    for i in range(6):\n",
        "      print(d[2])\n",
        "  if num_wrong_guess == 5:\n",
        "    for i in range(3):\n",
        "      print(d[3])\n",
        "    print(d[4])\n",
        "    for i in range(3):\n",
        "      print(d[3])\n",
        "    for i in range(3):\n",
        "      print(d[2])\n",
        "  elif num_wrong_guess == 6:\n",
        "      for i in range(3):\n",
        "        print(d[3])\n",
        "      for i in range(4,7):  \n",
        "          print(d[i]) \n",
        "      print(d[3])\n",
        "      for i in range(3):\n",
        "        print(d[2])\n",
        "  elif num_wrong_guess == 7:\n",
        "      for i in range(3):\n",
        "        print(d[3])\n",
        "      print(d[4])\n",
        "      print(d[7])\n",
        "      print(d[8]) \n",
        "      print(d[3])\n",
        "      for i in range(3):\n",
        "        print(d[2])\n",
        "  elif num_wrong_guess == 8:\n",
        "      for i in range(3):\n",
        "        print(d[3])\n",
        "      print(d[4])\n",
        "      print(d[7])\n",
        "      print(d[8]) \n",
        "      print(d[3])\n",
        "      print(d[9])\n",
        "      print(d[10])\n",
        "      print(d[2])\n",
        "  elif num_wrong_guess == 9:\n",
        "      for i in range(3):\n",
        "        print(\"|         |          \")\n",
        "      print(d[4])\n",
        "      print(d[7])\n",
        "      print(d[8]) \n",
        "      print(d[3])\n",
        "      print(d[11])\n",
        "      print(d[12])\n",
        "      print(d[2])\n",
        "  else:\n",
        "      pass"
      ],
      "execution_count": null,
      "outputs": []
    },
    {
      "cell_type": "code",
      "metadata": {
        "id": "zmbvs1dkdv41"
      },
      "source": [
        "if test:\n",
        "  hangman(5)"
      ],
      "execution_count": null,
      "outputs": []
    },
    {
      "cell_type": "code",
      "metadata": {
        "id": "HMOXOyv-bavn"
      },
      "source": [
        "def display_interface(category, answer, guess, num_wrong_guess, max_wrong_guess):\n",
        "  header()\n",
        "  hangman(num_wrong_guess)\n",
        "  print(\"\\n\\n**********\\n\\nCategory:\", category.capitalize(), \"\\n\\n**********\")\n",
        "  print(\"\\nNumber of wrong guesses:\", str(num_wrong_guess) + \"/\" + str(max_wrong_guess), \"\\n\")\n",
        "  for i in guess:\n",
        "    if i == \"*\":\n",
        "      print(\"_\", end = \" \")\n",
        "    else:\n",
        "      print(i.upper(), end = \" \")  \n",
        "  pass"
      ],
      "execution_count": null,
      "outputs": []
    },
    {
      "cell_type": "code",
      "metadata": {
        "id": "ZmrT5-2TbJNL"
      },
      "source": [
        "# Code to test display_interface function\n",
        "if test:\n",
        "  display_interface(\"Test Category\", \"Watermelon\", [\"*\", \"A\", \"*\", \"E\", \"*\", \"*\", \"E\", \"*\", \"*\", \"*\"], 3, 9)"
      ],
      "execution_count": null,
      "outputs": []
    },
    {
      "cell_type": "code",
      "metadata": {
        "id": "D_v5rEZUcuUj"
      },
      "source": [
        "def get_guess(answer):\n",
        "  # Prevent input from appearing in wrong position\n",
        "  sleep(0.3)\n",
        "  \n",
        "  # Keep asking user for input until it is valid (only letters no other stuff)\n",
        "  # Convert all to lowercase before returning\n",
        "  while 1:\n",
        "    user_input = input(\"Please enter your guess (letter or entire word): \")\n",
        "    if len(user_input) == 1 and user_input.isalpha():\n",
        "      break\n",
        "    elif len(user_input) == len(answer):\n",
        "      break\n",
        "    else:\n",
        "      print(\"Invalid input! Please enter a letter.\")\n",
        "\n",
        "  return user_input.lower()"
      ],
      "execution_count": null,
      "outputs": []
    },
    {
      "cell_type": "code",
      "metadata": {
        "id": "z5uxfYPrcpzQ"
      },
      "source": [
        "# Code to test get_guess function\n",
        "if test:\n",
        "  print(\"String returned:\", get_guess(\"watermelon\"))"
      ],
      "execution_count": null,
      "outputs": []
    },
    {
      "cell_type": "code",
      "metadata": {
        "id": "7MyNXLlymsi0"
      },
      "source": [
        "def check_guess(answer, guess, user_input, num_wrong_guess):\n",
        "  if len(user_input) == len(answer) and user_input.isalpha():\n",
        "    if user_input.lower() == answer.lower():\n",
        "      return list(answer), num_wrong_guess\n",
        "  user_input = user_input.lower()\n",
        "  answer = answer.lower()\n",
        "    \n",
        "  if user_input in answer:\n",
        "    for j in range(len(answer)):\n",
        "      if answer[j] == user_input:\n",
        "        guess[j] = user_input\n",
        "  else:\n",
        "    num_wrong_guess += 1\n",
        "    \n",
        "  return guess, num_wrong_guess"
      ],
      "execution_count": null,
      "outputs": []
    },
    {
      "cell_type": "code",
      "metadata": {
        "id": "aKkQLxb4ctbc"
      },
      "source": [
        "if test:\n",
        "  # Code to test check_guess function\n",
        "  print(check_guess(\"DAY\", [\"*\", \"*\", \"*\"], \"A\", 1))\n",
        "  # Expected return [\"*\", \"A\", \"*\"], 1\n",
        "\n",
        "  print(check_guess(\"day\", [\"*\", \"*\", \"*\"], \"A\", 1))\n",
        "  # Expected return [\"*\", \"A\", \"*\"], 1\n",
        "\n",
        "  print(check_guess(\"day\", [\"*\", \"*\", \"*\"], \"a\", 1))\n",
        "  # Expected return [\"*\", \"A\", \"*\"], 1\n",
        "\n",
        "  print(check_guess(\"DAY\", [\"*\", \"*\", \"*\"], \"M\", 1))\n",
        "  # Expected return [\"*\", \"*\", \"*\"], 2\n",
        "\n",
        "  print(check_guess(\"DAY\", [\"*\", \"*\", \"*\"], \"DAY\", 1))\n",
        "  # Expected return [\"*\", \"*\", \"*\"], 2\n",
        "\n"
      ],
      "execution_count": null,
      "outputs": []
    },
    {
      "cell_type": "code",
      "metadata": {
        "id": "_OtQV4hKmsfQ"
      },
      "source": [
        "def check_solved(answer, guess):\n",
        "  for i in range(len(guess)):\n",
        "    if guess[i].lower() != answer[i].lower():\n",
        "      return 0\n",
        "  \n",
        "  return 1"
      ],
      "execution_count": null,
      "outputs": []
    },
    {
      "cell_type": "code",
      "metadata": {
        "id": "_8PtRj_bdjao"
      },
      "source": [
        "if test:\n",
        "  print(check_solved(\"DAY\", [\"D\", \"A\", \"Y\"]))\n",
        "  # Expect 1\n",
        "\n",
        "  print(check_solved(\"day\", [\"D\", \"A\", \"Y\"]))\n",
        "  # Expect 1\n",
        "\n",
        "  print(check_solved(\"DAY\", [\"D\", \"*\", \"Y\"]))\n",
        "  # Expect 0"
      ],
      "execution_count": null,
      "outputs": []
    },
    {
      "cell_type": "code",
      "metadata": {
        "id": "1wZ9SYH6MGct"
      },
      "source": [
        "def game(category, answer, max_wrong_guess):\n",
        "  # Variables to keep track of current gameplay\n",
        "  guess = starting_letters(answer)\n",
        "  num_wrong_guess = 0\n",
        "\n",
        "  while 1:\n",
        "    clear_output(wait=False)\n",
        "\n",
        "    # Display game interface\n",
        "    display_interface(category, answer, guess, num_wrong_guess, max_wrong_guess)\n",
        "\n",
        "    # Get user's guess\n",
        "    letter = get_guess(answer)\n",
        "\n",
        "    # Check user's guess\n",
        "    guess, num_wrong_guess = check_guess(answer, guess, letter, num_wrong_guess)\n",
        "\n",
        "    # Check if solved\n",
        "    solved = check_solved(answer, guess)\n",
        "\n",
        "    if solved:\n",
        "      clear_output(wait=False)\n",
        "      display_interface(category, answer, guess, num_wrong_guess, max_wrong_guess)\n",
        "      print(\"\\n\\nCongratulations you solved it!\")\n",
        "      return 1\n",
        "\n",
        "    if num_wrong_guess >= max_wrong_guess:\n",
        "      clear_output(wait=False)\n",
        "      display_interface(category, answer, guess, num_wrong_guess, max_wrong_guess)\n",
        "      # print(\"\\n\\n===============\")\n",
        "      # print(\"  GAME OVER!\")\n",
        "      # print(\"===============\")\n",
        "      print(\"\\n\\nThe answer was\", answer.lower() + \".\")\n",
        "      return 0"
      ],
      "execution_count": null,
      "outputs": []
    },
    {
      "cell_type": "code",
      "metadata": {
        "id": "vFMbiJBBMZx8"
      },
      "source": [
        "if test:\n",
        "  game(\"test\", \"hi\", 2)"
      ],
      "execution_count": null,
      "outputs": []
    },
    {
      "cell_type": "code",
      "metadata": {
        "id": "mYYEpHTLN__0"
      },
      "source": [
        "def single_player(max_wrong_guess):\n",
        "  current_score = 0\n",
        "\n",
        "  while 1:\n",
        "    category, answer = generate_answer()\n",
        "    round_result = game(category, answer, max_wrong_guess)\n",
        "    if round_result == 0:\n",
        "      print(\"\\nGAME OVER!\")\n",
        "      print(\"Score:\", current_score)\n",
        "      break\n",
        "    current_score += 1\n",
        "\n",
        "    # Prevent input from appearing in wrong order\n",
        "    sleep(0.3)\n",
        "    usr_continue = input(\"Current Score: \" + str(current_score) + \"\\nType 'exit' to end game or press 'enter' to continue...\\n\")\n",
        "    if usr_continue.lower() == \"exit\":\n",
        "      print(\"\\nGAME OVER!\")\n",
        "      print(\"Score:\", current_score)\n",
        "      break"
      ],
      "execution_count": null,
      "outputs": []
    },
    {
      "cell_type": "code",
      "metadata": {
        "id": "H1BzKWSoO74N"
      },
      "source": [
        "if test:\n",
        "  single_player(2)"
      ],
      "execution_count": null,
      "outputs": []
    },
    {
      "cell_type": "code",
      "metadata": {
        "id": "QS-FaZu_QN7Z"
      },
      "source": [
        "def two_player(max_wrong_guess):\n",
        "  current_scores = [0, 0]\n",
        "  current_player = 0\n",
        "\n",
        "  player_1 = input(\"\\nPlease enter Player 1's name\\n\")\n",
        "  player_2 = input(\"\\nPlease enter Player 2's name\\n\")\n",
        "\n",
        "  while 1:\n",
        "    category, answer = user_answer()\n",
        "    round_result = game(category, answer, max_wrong_guess)\n",
        "    if round_result:\n",
        "      current_scores[current_player] += 1\n",
        "    current_player = (current_player + 1) % 2\n",
        "\n",
        "    # Prevent input from appearing in wrong order\n",
        "    sleep(0.3)\n",
        "    usr_continue = input(f\"\"\"\n",
        "Current Scores\n",
        "{player_1}: {str(current_scores[0])}\n",
        "{player_2}: {str(current_scores[1])}\n",
        "\\nType 'exit' to end game or press 'enter' to continue...\\n\"\"\")\n",
        "    if usr_continue.lower() == \"exit\":\n",
        "      print(\"\\nGAME OVER!\")\n",
        "      print(f\"{player_1}: \", current_scores[0])\n",
        "      print(f\"{player_2}: \", current_scores[1])\n",
        "      break"
      ],
      "execution_count": null,
      "outputs": []
    },
    {
      "cell_type": "code",
      "metadata": {
        "id": "SPIQzJv9T-bR"
      },
      "source": [
        "if test:\n",
        "  two_player(2)"
      ],
      "execution_count": null,
      "outputs": []
    },
    {
      "cell_type": "code",
      "metadata": {
        "id": "w5HUXXHDz2XZ"
      },
      "source": [
        "def main():\n",
        "  header()\n",
        "\n",
        "  # Game settings\n",
        "  max_wrong_guess = 9\n",
        "\n",
        "  # Show main menu and get user option\n",
        "  option = main_menu()\n",
        "\n",
        "  # Get answer based on user selection:\n",
        "  if option == 1:\n",
        "    single_player(max_wrong_guess)\n",
        "  elif option == 2:\n",
        "    two_player(max_wrong_guess)\n",
        "  else:\n",
        "    raise Exception(\"Unexpected 'option' value\")\n",
        "\n",
        "  return \n",
        "  "
      ],
      "execution_count": null,
      "outputs": []
    },
    {
      "cell_type": "code",
      "metadata": {
        "id": "pxdhwxWaTUkR"
      },
      "source": [
        "main()"
      ],
      "execution_count": null,
      "outputs": []
    }
  ]
}