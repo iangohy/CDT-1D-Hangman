{
  "nbformat": 4,
  "nbformat_minor": 0,
  "metadata": {
    "colab": {
      "name": "1D Project CTD.ipynb",
      "provenance": [],
      "collapsed_sections": []
    },
    "kernelspec": {
      "name": "python3",
      "display_name": "Python 3"
    }
  },
  "cells": [
    {
      "cell_type": "code",
      "metadata": {
        "id": "TE63Sa1brSCs",
        "outputId": "566de123-6f5b-4413-b037-f6f5d19bad95",
        "colab": {
          "base_uri": "https://localhost:8080/"
        }
      },
      "source": [
        "!apt-get install toilet -qq\n",
        "!toilet --gay I love CDT "
      ],
      "execution_count": null,
      "outputs": [
        {
          "output_type": "stream",
          "text": [
            "                                                                      \n",
            " \u001b[0;1;31;91mm\u001b[0;1;33;93mmm\u001b[0;1;32;92mmm\u001b[0m         \u001b[0;1;33;93m\"\u001b[0;1;32;92m\"#\u001b[0m                                  \u001b[0;1;32;92mmm\u001b[0;1;36;96mm\u001b[0m  \u001b[0;1;34;94mm\u001b[0;1;35;95mmm\u001b[0;1;31;91mm\u001b[0m  \u001b[0;1;33;93mm\u001b[0;1;32;92mmm\u001b[0;1;36;96mmm\u001b[0;1;34;94mmm\u001b[0m\n",
            "   \u001b[0;1;32;92m#\u001b[0m             \u001b[0;1;36;96m#\u001b[0m     \u001b[0;1;31;91mm\u001b[0;1;33;93mmm\u001b[0m   \u001b[0;1;36;96mm\u001b[0m   \u001b[0;1;35;95mm\u001b[0m   \u001b[0;1;33;93mm\u001b[0;1;32;92mmm\u001b[0m          \u001b[0;1;32;92mm\"\u001b[0m   \u001b[0;1;34;94m\"\u001b[0m \u001b[0;1;35;95m#\u001b[0m   \u001b[0;1;33;93m\"\u001b[0;1;32;92mm\u001b[0m   \u001b[0;1;34;94m#\u001b[0m   \n",
            "   \u001b[0;1;36;96m#\u001b[0m             \u001b[0;1;34;94m#\u001b[0m    \u001b[0;1;33;93m#\"\u001b[0m \u001b[0;1;32;92m\"\u001b[0;1;36;96m#\u001b[0m  \u001b[0;1;34;94m\"\u001b[0;1;35;95mm\u001b[0m \u001b[0;1;31;91mm\"\u001b[0m  \u001b[0;1;32;92m#\"\u001b[0m  \u001b[0;1;34;94m#\u001b[0m         \u001b[0;1;36;96m#\u001b[0m      \u001b[0;1;31;91m#\u001b[0m    \u001b[0;1;36;96m#\u001b[0m   \u001b[0;1;35;95m#\u001b[0m   \n",
            "   \u001b[0;1;34;94m#\u001b[0m             \u001b[0;1;35;95m#\u001b[0m    \u001b[0;1;32;92m#\u001b[0m   \u001b[0;1;34;94m#\u001b[0m   \u001b[0;1;31;91m#m\u001b[0;1;33;93m#\u001b[0m   \u001b[0;1;36;96m#\"\u001b[0;1;34;94m\"\"\u001b[0;1;35;95m\"\u001b[0m         \u001b[0;1;34;94m#\u001b[0m      \u001b[0;1;33;93m#\u001b[0m    \u001b[0;1;34;94m#\u001b[0m   \u001b[0;1;31;91m#\u001b[0m   \n",
            " \u001b[0;1;34;94mm\u001b[0;1;35;95mm#\u001b[0;1;31;91mmm\u001b[0m           \u001b[0;1;31;91m\"\u001b[0;1;33;93mmm\u001b[0m  \u001b[0;1;36;96m\"#\u001b[0;1;34;94mm#\u001b[0;1;35;95m\"\u001b[0m    \u001b[0;1;33;93m#\u001b[0m    \u001b[0;1;34;94m\"#\u001b[0;1;35;95mmm\u001b[0;1;31;91m\"\u001b[0m          \u001b[0;1;35;95m\"\u001b[0;1;31;91mmm\u001b[0;1;33;93mm\"\u001b[0m \u001b[0;1;32;92m#\u001b[0;1;36;96mmm\u001b[0;1;34;94mm\"\u001b[0m    \u001b[0;1;33;93m#\u001b[0m   \n",
            "                                                                      \n",
            "                                                                      \n"
          ],
          "name": "stdout"
        }
      ]
    },
    {
      "cell_type": "markdown",
      "metadata": {
        "id": "S9YYZJMNvruI"
      },
      "source": [
        "# 1D Hangman\n",
        "\n",
        "## Reference:\n",
        "http://gambiter.com/paper-pencil/Hangman_game.html\n",
        "\n",
        "# TODO\n",
        "Details of functions can be found in their respective code cells below\n",
        "* `main_menu()` - Ian\n",
        "* `how_to_play()` - Andrea\n",
        "* `generate_answer()` - Axel\n",
        "  * Need to generate the list of words and categories (remember to credit the source)\n",
        "  * Can possibly look to put words in a text file (look at lesson 6)\n",
        "* `user_answer()` - Andrea\n",
        "* `display_interface(category, answer, guess)` - Ian\n",
        "* `get_guess()` - Hayden\n",
        "* `check_guess(answer, guess, letter, num_wrong_guess)` - Mandis\n",
        "* `check_solved(answer, guess)` - Andrea\n",
        "* `turtle_hangman(num_wrong_guess)` - Hayden\n",
        "* `main()` - Ian\n",
        "\n",
        "# Additional Ideas\n",
        "* Scoreboard"
      ]
    },
    {
      "cell_type": "code",
      "metadata": {
        "id": "Fe78LENDXc3P"
      },
      "source": [
        "def main_menu():\n",
        "  \"\"\"\n",
        "  Shows main menu and gets option from user\n",
        "\n",
        "  Parameters:\n",
        "  None\n",
        "\n",
        "  Returns:\n",
        "  option (int): Option chosen by user\n",
        "  \"\"\"\n",
        "  option = 0\n",
        "\n",
        "  while 1:\n",
        "    print(\"==========\")\n",
        "    print(\"1. 1 Player game (program chooses word)\")\n",
        "    print(\"2. 2 Player game (player 1 chooses word for player 2 to guess)\")\n",
        "    print(\"3. How to play?\")\n",
        "    option = input(\"Select an option: \")\n",
        "    if option in [\"1\", \"2\"]:\n",
        "      break\n",
        "    elif option == \"3\":\n",
        "      how_to_play()\n",
        "    else:\n",
        "      print(\">>> Invalid input!\")\n",
        "\n",
        "  return int(option)"
      ],
      "execution_count": null,
      "outputs": []
    },
    {
      "cell_type": "code",
      "metadata": {
        "id": "D4P5N0fRcQpF"
      },
      "source": [
        "# Code to test main_menu function\n",
        "print(\"Option returned:\", main_menu())"
      ],
      "execution_count": null,
      "outputs": []
    },
    {
      "cell_type": "code",
      "metadata": {
        "id": "1pXqtl2ijN3m"
      },
      "source": [
        "def how_to_play():\n",
        "  \"\"\"Instructions on how to play the game\"\"\"\n",
        "  print(\"\"\"~~~~~~~~~~\n",
        "  TODO INSTRUCTIONS ON HOW TO PLAY\n",
        "~~~~~~~~~~\"\"\")\n",
        "  input(\"Press enter to return to main menu\")\n",
        "  return"
      ],
      "execution_count": null,
      "outputs": []
    },
    {
      "cell_type": "code",
      "metadata": {
        "id": "DvApPbUacJ9k"
      },
      "source": [
        "# Code to test how_to_play function\n",
        "how_to_play()"
      ],
      "execution_count": null,
      "outputs": []
    },
    {
      "cell_type": "code",
      "metadata": {
        "id": "6yZA8slDYzwJ"
      },
      "source": [
        "def generate_answer():\n",
        "  \"\"\"\n",
        "  Generates answer from a list of words and categories\n",
        "\n",
        "  Parameters:\n",
        "  None\n",
        "\n",
        "  Returns:\n",
        "  category, answer (string, string): Tuple containing (category, word) as the answer to the hangman question\n",
        "  \"\"\"\n",
        "\n",
        "  return \"category\", \"answer\""
      ],
      "execution_count": null,
      "outputs": []
    },
    {
      "cell_type": "code",
      "metadata": {
        "id": "X7VneDghcBlG"
      },
      "source": [
        "# Code to test generate_answer funtion\n",
        "category, answer = generate_answer()\n",
        "print(\"Category returned:\", category)\n",
        "print(\"Answer returned:\", answer)"
      ],
      "execution_count": null,
      "outputs": []
    },
    {
      "cell_type": "code",
      "metadata": {
        "id": "FkyPOxzcade9"
      },
      "source": [
        "def user_answer():\n",
        "  \"\"\"\n",
        "  Get user input to set the hangman word and category\n",
        "\n",
        "  Parameters:\n",
        "  None\n",
        "\n",
        "  Returns:\n",
        "  answer (string, string): Tuple containing (category, word) as the answer to the hangman question\n",
        "  \"\"\"\n",
        "\n",
        "  return \"category\", \"answer\""
      ],
      "execution_count": null,
      "outputs": []
    },
    {
      "cell_type": "code",
      "metadata": {
        "id": "aLCaW92kb0_3"
      },
      "source": [
        "# Code to test user_answer function\n",
        "print(user_answer())"
      ],
      "execution_count": null,
      "outputs": []
    },
    {
      "cell_type": "code",
      "metadata": {
        "id": "HMOXOyv-bavn"
      },
      "source": [
        "def display_interface(category, answer, guess):\n",
        "  \"\"\"\n",
        "  Displays the game interface\n",
        "\n",
        "  Parameters:\n",
        "  category (str): Category for the answer\n",
        "  answer (str): Answer to the hangman\n",
        "  guess (list: str): Current guess of the user. \"*\" elements denotes characters yet to be guessed.\n",
        "\n",
        "  Returns:\n",
        "  None\n",
        "  \"\"\"\n",
        "\n",
        "  pass"
      ],
      "execution_count": 21,
      "outputs": []
    },
    {
      "cell_type": "code",
      "metadata": {
        "id": "ZmrT5-2TbJNL"
      },
      "source": [
        "# Code to test display_interface function\n",
        "display_interface(\"Test Category\", \"Watermelon\", [\"*\", \"A\", \"*\", \"E\", \"*\", \"*\", \"E\", \"*\", \"*\", \"*\"])"
      ],
      "execution_count": 22,
      "outputs": []
    },
    {
      "cell_type": "code",
      "metadata": {
        "id": "D_v5rEZUcuUj"
      },
      "source": [
        "def get_guess():\n",
        "  \"\"\"\n",
        "  Get a letter guess from the user\n",
        "\n",
        "  Parameters:\n",
        "  None\n",
        "\n",
        "  Returns:\n",
        "  letter (str): Uppercase letter from the user\n",
        "  \"\"\"\n",
        "\n",
        "  # Keep asking user for input until it is valid (only letters no other stuff)\n",
        "  # Convert lowercase letters to uppercase before returning\n",
        "\n",
        "  pass"
      ],
      "execution_count": null,
      "outputs": []
    },
    {
      "cell_type": "code",
      "metadata": {
        "id": "z5uxfYPrcpzQ"
      },
      "source": [
        "# Code to test get_guess function\n",
        "print(\"Letter returned:\", get_guess())"
      ],
      "execution_count": null,
      "outputs": []
    },
    {
      "cell_type": "code",
      "metadata": {
        "id": "7MyNXLlymsi0"
      },
      "source": [
        "def check_guess(answer, guess, letter, num_wrong_guess):\n",
        "  \"\"\"\n",
        "  Take the user's letter guess and return the updated guess and number of wrong guesses based on the answer.\n",
        "\n",
        "  Parameters:\n",
        "  answer (str): Answer to the hangman\n",
        "  guess (list: str): Current guess of the user. \"*\" elements denotes characters yet to be guessed.\n",
        "  letter (str): User's current letter guess\n",
        "  num_wrong_guess (int): Current number of wrong guesses so far\n",
        "\n",
        "  Returns:\n",
        "  guess, num_wrong_guess (list: str, int): Updated guess of the user (\"*\" elements denotes characters yet to be guessed) and updated number of wrong guesses \n",
        "  \"\"\"\n",
        "\n",
        "  pass"
      ],
      "execution_count": null,
      "outputs": []
    },
    {
      "cell_type": "code",
      "metadata": {
        "id": "aKkQLxb4ctbc"
      },
      "source": [
        "# Code to test check_guess function\n",
        "print(check_guess(\"DAY\", [\"*\", \"*\", \"*\"], \"A\", 1))\n",
        "# Expected return [\"*\", \"A\", \"*\"], 1\n",
        "\n",
        "print(check_guess(\"day\", [\"*\", \"*\", \"*\"], \"A\", 1))\n",
        "# Expected return [\"*\", \"A\", \"*\"], 1\n",
        "\n",
        "print(check_guess(\"day\", [\"*\", \"*\", \"*\"], \"a\", 1))\n",
        "# Expected return [\"*\", \"A\", \"*\"], 1\n",
        "\n",
        "print(check_guess(\"DAY\", [\"*\", \"*\", \"*\"], \"M\", 1))\n",
        "# Expected return [\"*\", \"*\", \"*\"], 2\n",
        "\n"
      ],
      "execution_count": null,
      "outputs": []
    },
    {
      "cell_type": "code",
      "metadata": {
        "id": "_OtQV4hKmsfQ"
      },
      "source": [
        "def check_solved(answer, guess):\n",
        "  \"\"\"\n",
        "  Checks if player has solved the hangman question\n",
        "\n",
        "  Parameters:\n",
        "  answer (str): Answer to the hangman\n",
        "  guess (list: str): Current guess of the user. \"*\" elements denotes characters yet to be guessed.\n",
        "\n",
        "  Returns:\n",
        "  solved (int) - 0 if not solved, 1 if solved\n",
        "  \"\"\"\n",
        "\n",
        "  pass"
      ],
      "execution_count": null,
      "outputs": []
    },
    {
      "cell_type": "code",
      "metadata": {
        "id": "_8PtRj_bdjao"
      },
      "source": [
        "# Code to test check_solved function\n",
        "print(check_solved(\"DAY\", [\"D\", \"A\", \"Y\"]))\n",
        "# Expect 1\n",
        "\n",
        "print(check_solved(\"day\", [\"D\", \"A\", \"Y\"]))\n",
        "# Expect 1\n",
        "\n",
        "print(check_solved(\"DAY\", [\"D\", \"*\", \"Y\"]))\n",
        "# Expect 0"
      ],
      "execution_count": null,
      "outputs": []
    },
    {
      "cell_type": "code",
      "metadata": {
        "id": "f32_OhSDSCuj"
      },
      "source": [
        "def turtle_hangman(num_wrong_guess):\n",
        "  \"\"\"\n",
        "  Draw the hangman picture using turtle based on number of wrong guesses.\n",
        "\n",
        "  Parameters:\n",
        "  num_wrong_guess (int): Current number of wrong guesses so far\n",
        "\n",
        "  Returns:\n",
        "  None\n",
        "  \"\"\"\n",
        "\n",
        "  pass"
      ],
      "execution_count": null,
      "outputs": []
    },
    {
      "cell_type": "code",
      "metadata": {
        "id": "zmbvs1dkdv41"
      },
      "source": [
        "# Code to test turtle_hangman function\n",
        "turtle_hangman(3)"
      ],
      "execution_count": null,
      "outputs": []
    },
    {
      "cell_type": "code",
      "metadata": {
        "id": "w5HUXXHDz2XZ"
      },
      "source": [
        "def main():\n",
        "  # Game welcome screen\n",
        "  # ASCII Art generated from http://patorjk.com/software/taag/#p=display&f=Doom&t=PyHangMan\n",
        "  print(\"\"\"\n",
        "  ______      _   _                  ___  ___            \n",
        "| ___ \\    | | | |                 |  \\/  |            \n",
        "| |_/ /   _| |_| | __ _ _ __   __ _| .  . | __ _ _ __  \n",
        "|  __/ | | |  _  |/ _` | '_ \\ / _` | |\\/| |/ _` | '_ \\ \n",
        "| |  | |_| | | | | (_| | | | | (_| | |  | | (_| | | | |\n",
        "\\_|   \\__, \\_| |_/\\__,_|_| |_|\\__, \\_|  |_/\\__,_|_| |_|\n",
        "       __/ |                   __/ |                   \n",
        "      |___/                   |___/                    \n",
        "      \"\"\")\n",
        "\n",
        "  # Show main menu and get user option\n",
        "  option = main_menu()\n",
        "\n",
        "  # Get answer based on user selection:\n",
        "  if option == 1:\n",
        "    category, answer = generate_answer()\n",
        "  elif option == 2:\n",
        "    category, answer = user_answer()\n",
        "  else:\n",
        "    raise Exception(\"Unexpected 'option' value\")\n",
        "  \n",
        "  # Variables to keep track of current gameplay\n",
        "  guess = [\"*\"] * len(answer)\n",
        "  num_wrong_guess = 0\n",
        "\n",
        "  # Display game interface\n",
        "  display_interface(category, answer, guess)\n",
        "\n",
        "  while 1:\n",
        "    # Get user's guess\n",
        "    letter = get_guess()\n",
        "\n",
        "    # Check user's guess\n",
        "    guess, num_wrong_guess = check_guess(answer, guess, letter, num_wrong_guess)\n",
        "\n",
        "    # Update game interface\n",
        "    display_interface(category, answer, guess)\n",
        "\n",
        "    # Check if solved\n",
        "    solved = check_solved(answer, guess)\n",
        "\n",
        "    if solved:\n",
        "      break\n",
        "\n",
        "    # Display turtle (if guess > 0)\n",
        "    draw_turtle(num_wrong_guess)\n",
        "\n"
      ],
      "execution_count": null,
      "outputs": []
    },
    {
      "cell_type": "code",
      "metadata": {
        "id": "pxdhwxWaTUkR"
      },
      "source": [
        "main()"
      ],
      "execution_count": null,
      "outputs": []
    },
    {
      "cell_type": "code",
      "metadata": {
        "id": "AeLgnRtkTWU4"
      },
      "source": [
        ""
      ],
      "execution_count": null,
      "outputs": []
    }
  ]
}