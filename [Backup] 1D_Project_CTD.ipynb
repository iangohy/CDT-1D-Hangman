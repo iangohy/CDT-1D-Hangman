{
  "nbformat": 4,
  "nbformat_minor": 0,
  "metadata": {
    "colab": {
      "name": "1D Project CTD.ipynb",
      "provenance": [],
      "collapsed_sections": [],
      "toc_visible": true
    },
    "kernelspec": {
      "name": "python3",
      "display_name": "Python 3"
    }
  },
  "cells": [
    {
      "cell_type": "code",
      "metadata": {
        "id": "TE63Sa1brSCs",
        "colab": {
          "base_uri": "https://localhost:8080/"
        },
        "outputId": "f00af380-8791-45e7-9514-954fb2bd11a0"
      },
      "source": [
        "!apt-get install toilet -qq\n",
        "!toilet --gay I love CDT "
      ],
      "execution_count": 207,
      "outputs": [
        {
          "output_type": "stream",
          "text": [
            "                                                                      \n",
            " \u001b[0;1;31;91mm\u001b[0;1;33;93mmm\u001b[0;1;32;92mmm\u001b[0m         \u001b[0;1;33;93m\"\u001b[0;1;32;92m\"#\u001b[0m                                  \u001b[0;1;32;92mmm\u001b[0;1;36;96mm\u001b[0m  \u001b[0;1;34;94mm\u001b[0;1;35;95mmm\u001b[0;1;31;91mm\u001b[0m  \u001b[0;1;33;93mm\u001b[0;1;32;92mmm\u001b[0;1;36;96mmm\u001b[0;1;34;94mmm\u001b[0m\n",
            "   \u001b[0;1;32;92m#\u001b[0m             \u001b[0;1;36;96m#\u001b[0m     \u001b[0;1;31;91mm\u001b[0;1;33;93mmm\u001b[0m   \u001b[0;1;36;96mm\u001b[0m   \u001b[0;1;35;95mm\u001b[0m   \u001b[0;1;33;93mm\u001b[0;1;32;92mmm\u001b[0m          \u001b[0;1;32;92mm\"\u001b[0m   \u001b[0;1;34;94m\"\u001b[0m \u001b[0;1;35;95m#\u001b[0m   \u001b[0;1;33;93m\"\u001b[0;1;32;92mm\u001b[0m   \u001b[0;1;34;94m#\u001b[0m   \n",
            "   \u001b[0;1;36;96m#\u001b[0m             \u001b[0;1;34;94m#\u001b[0m    \u001b[0;1;33;93m#\"\u001b[0m \u001b[0;1;32;92m\"\u001b[0;1;36;96m#\u001b[0m  \u001b[0;1;34;94m\"\u001b[0;1;35;95mm\u001b[0m \u001b[0;1;31;91mm\"\u001b[0m  \u001b[0;1;32;92m#\"\u001b[0m  \u001b[0;1;34;94m#\u001b[0m         \u001b[0;1;36;96m#\u001b[0m      \u001b[0;1;31;91m#\u001b[0m    \u001b[0;1;36;96m#\u001b[0m   \u001b[0;1;35;95m#\u001b[0m   \n",
            "   \u001b[0;1;34;94m#\u001b[0m             \u001b[0;1;35;95m#\u001b[0m    \u001b[0;1;32;92m#\u001b[0m   \u001b[0;1;34;94m#\u001b[0m   \u001b[0;1;31;91m#m\u001b[0;1;33;93m#\u001b[0m   \u001b[0;1;36;96m#\"\u001b[0;1;34;94m\"\"\u001b[0;1;35;95m\"\u001b[0m         \u001b[0;1;34;94m#\u001b[0m      \u001b[0;1;33;93m#\u001b[0m    \u001b[0;1;34;94m#\u001b[0m   \u001b[0;1;31;91m#\u001b[0m   \n",
            " \u001b[0;1;34;94mm\u001b[0;1;35;95mm#\u001b[0;1;31;91mmm\u001b[0m           \u001b[0;1;31;91m\"\u001b[0;1;33;93mmm\u001b[0m  \u001b[0;1;36;96m\"#\u001b[0;1;34;94mm#\u001b[0;1;35;95m\"\u001b[0m    \u001b[0;1;33;93m#\u001b[0m    \u001b[0;1;34;94m\"#\u001b[0;1;35;95mmm\u001b[0;1;31;91m\"\u001b[0m          \u001b[0;1;35;95m\"\u001b[0;1;31;91mmm\u001b[0;1;33;93mm\"\u001b[0m \u001b[0;1;32;92m#\u001b[0;1;36;96mmm\u001b[0;1;34;94mm\"\u001b[0m    \u001b[0;1;33;93m#\u001b[0m   \n",
            "                                                                      \n",
            "                                                                      \n"
          ],
          "name": "stdout"
        }
      ]
    },
    {
      "cell_type": "markdown",
      "metadata": {
        "id": "S9YYZJMNvruI"
      },
      "source": [
        "# 1D Hangman\n",
        "\n",
        "## Reference:\n",
        "http://gambiter.com/paper-pencil/Hangman_game.html\n",
        "\n",
        "For words.csv\n",
        "* https://myvocabulary.com/word-list/animal-types-vocabulary/\n",
        "\n",
        "# TODO\n",
        "Details of functions can be found in their respective code cells below\n",
        "* `main_menu()` - Ian\n",
        "* `how_to_play()` - Andrea\n",
        "* `generate_answer()` - Axel\n",
        "  * Need to generate the list of words and categories (remember to credit the source)\n",
        "  * Can possibly look to put words in a text file (look at lesson 6)\n",
        "* `user_answer()` - Andrea\n",
        "* `starting_letters()` - Ian\n",
        "* `display_interface(category, answer, guess)` - Ian\n",
        "* `get_guess()` - Hayden\n",
        "* `check_guess(answer, guess, letter, num_wrong_guess)` - Mandis\n",
        "* `check_solved(answer, guess)` - Andrea\n",
        "* `turtle_hangman(num_wrong_guess)` - Hayden\n",
        "* `main()` - Ian\n",
        "\n",
        "# Additional Ideas\n",
        "* Scoreboard"
      ]
    },
    {
      "cell_type": "code",
      "metadata": {
        "id": "Fe78LENDXc3P"
      },
      "source": [
        "def main_menu():\n",
        "  \"\"\"\n",
        "  Shows main menu and gets option from user\n",
        "\n",
        "  Parameters:\n",
        "  None\n",
        "\n",
        "  Returns:\n",
        "  option (int): Option chosen by user\n",
        "  \"\"\"\n",
        "  option = 0\n",
        "\n",
        "  while 1:\n",
        "    print(\"==========\")\n",
        "    print(\"1. 1 Player game (program chooses word)\")\n",
        "    print(\"2. 2 Player game (player 1 chooses word for player 2 to guess)\")\n",
        "    print(\"3. How to play?\")\n",
        "    option = input(\"Select an option: \")\n",
        "    if option in [\"1\", \"2\"]:\n",
        "      break\n",
        "    elif option == \"3\":\n",
        "      how_to_play()\n",
        "    else:\n",
        "      print(\">>> Invalid input!\")\n",
        "\n",
        "  return int(option)"
      ],
      "execution_count": 208,
      "outputs": []
    },
    {
      "cell_type": "code",
      "metadata": {
        "id": "D4P5N0fRcQpF",
        "colab": {
          "base_uri": "https://localhost:8080/"
        },
        "outputId": "d71bf21f-5643-4750-b783-88d99ce0aed6"
      },
      "source": [
        "# Code to test main_menu function\n",
        "print(\"Option returned:\", main_menu())"
      ],
      "execution_count": 209,
      "outputs": [
        {
          "output_type": "stream",
          "text": [
            "==========\n",
            "1. 1 Player game (program chooses word)\n",
            "2. 2 Player game (player 1 chooses word for player 2 to guess)\n",
            "3. How to play?\n",
            "Select an option: 1\n",
            "Option returned: 1\n"
          ],
          "name": "stdout"
        }
      ]
    },
    {
      "cell_type": "code",
      "metadata": {
        "id": "1pXqtl2ijN3m"
      },
      "source": [
        "def how_to_play():\n",
        "  step_one = \"Play individually or in groups\"\n",
        "  step_two = \"Player selects a letter of the alphabet\"\n",
        "  step_three = \"If letter is found in the word, the group or individual takes another turn in guessing another letter\"\n",
        "  step_four = \"If letter is not found in the word, Player has to try again and a line will be added\"\n",
        "  step_five = \"The player will win if they guess the word and lose is all parts of the hangman are displayed\"\n",
        "\n",
        "  print(\"INSTRUCTIONS ON HOW TO PLAY\\n\" + step_one + \"\\n\" + \"\"\")\n",
        "~~~~~~~~~~\"\"\")\n",
        "  input(\"Press enter to return to main menu\")\n",
        "  return"
      ],
      "execution_count": 210,
      "outputs": []
    },
    {
      "cell_type": "code",
      "metadata": {
        "id": "DvApPbUacJ9k",
        "colab": {
          "base_uri": "https://localhost:8080/"
        },
        "outputId": "c3e9bef7-f076-4dd1-90f7-56b03b0fc0af"
      },
      "source": [
        "# Code to test how_to_play function\n",
        "how_to_play()"
      ],
      "execution_count": 211,
      "outputs": [
        {
          "output_type": "stream",
          "text": [
            "INSTRUCTIONS ON HOW TO PLAY\n",
            "Play individually or in groups\n",
            ")\n",
            "~~~~~~~~~~\n",
            "Press enter to return to main menu\n"
          ],
          "name": "stdout"
        }
      ]
    },
    {
      "cell_type": "code",
      "metadata": {
        "id": "6yZA8slDYzwJ"
      },
      "source": [
        "# def generate_answer():\n",
        "#   \"\"\"\n",
        "#   Generates answer from a list of words and categories in words.csv\n",
        "\n",
        "#   Parameters:\n",
        "#   None\n",
        "\n",
        "#   Returns:\n",
        "#   category, answer (string, string): Tuple containing (category, word) as the answer to the hangman question\n",
        "#   \"\"\"\n",
        "\n",
        "#   categories = [\"Animals\", \"Fruits\", \"Physics\"]\n",
        "#   print(\"\\n 1. Easy\\n 2. Intermediate\\n 3. Difficult\\n\")\n",
        "#   level = input(\"Please select a difficulty level (1-3): \")\n",
        "#   level = int(level)\n",
        "  \n",
        "#   if(level > 0 and level < 4):\n",
        "#       if(level == 1):\n",
        "#         words = ['frog', 'lion', 'bear', 'bird', 'fish']\n",
        "#       elif(level == 2):\n",
        "#         words = ['durian', 'orange', 'papaya', 'mango', 'coconut']\n",
        "#       else:\n",
        "#         words = ['displacement', 'acceleration', 'momentum', 'velocity', 'projectile']\n",
        "#   else:\n",
        "#       main_menu()\n",
        "  \n",
        "#   select_word = random.choice(words)\n",
        "\n",
        "#   return categories[level - 1],  select_word"
      ],
      "execution_count": 212,
      "outputs": []
    },
    {
      "cell_type": "code",
      "metadata": {
        "id": "EGYaULYIWOl-"
      },
      "source": [
        "from random import randint\n",
        "\n",
        "def generate_answer():\n",
        "  \"\"\"\n",
        "  Generates answer from a list of words and categories in words.csv\n",
        "\n",
        "  Parameters:\n",
        "  None\n",
        "\n",
        "  Returns:\n",
        "  category, answer (string, string): Tuple containing (category, word) as the answer to the hangman question\n",
        "  \"\"\"\n",
        "  with open(\"words.csv\") as f:\n",
        "    data = f.readlines()\n",
        "    total_words = len(data) - 1\n",
        "    rand_val = random.randint(1, total_words)\n",
        "    rand_ans = data[rand_val].strip()\n",
        "    rand_ans = rand_ans.split(\",\")\n",
        "    category = rand_ans[0]\n",
        "    answer = rand_ans[1]\n",
        "\n",
        "\n",
        "  return category, answer"
      ],
      "execution_count": 213,
      "outputs": []
    },
    {
      "cell_type": "code",
      "metadata": {
        "id": "X7VneDghcBlG",
        "colab": {
          "base_uri": "https://localhost:8080/"
        },
        "outputId": "ff082d3c-85ad-4b81-d9d7-8880bf1dbfe7"
      },
      "source": [
        "# Code to test generate_answer funtion\n",
        "category, answer = generate_answer()\n",
        "print(\"Category returned:\", category)\n",
        "print(\"Answer returned:\", answer)"
      ],
      "execution_count": 214,
      "outputs": [
        {
          "output_type": "stream",
          "text": [
            "Category returned: animal\n",
            "Answer returned: monkey\n"
          ],
          "name": "stdout"
        }
      ]
    },
    {
      "cell_type": "code",
      "metadata": {
        "id": "FkyPOxzcade9"
      },
      "source": [
        "def user_answer():\n",
        "  \"\"\"\n",
        "  Get user input to set the hangman word and category\n",
        "\n",
        "  Parameters: \n",
        "  None\n",
        "\n",
        "  Returns:\n",
        "  answer (string, string): Tuple containing (category, word) as the answer to the hangman question\n",
        "  \"\"\"\n",
        "\n",
        "  category = input(\"Please enter a category: \")\n",
        "  answer = input(\"Please enter the word: \")\n",
        "  return category, answer"
      ],
      "execution_count": 215,
      "outputs": []
    },
    {
      "cell_type": "code",
      "metadata": {
        "id": "aLCaW92kb0_3",
        "colab": {
          "base_uri": "https://localhost:8080/"
        },
        "outputId": "99056c91-1bc3-432d-8866-1ff56e6f801c"
      },
      "source": [
        "# Code to test user_answer function\n",
        "print(user_answer())"
      ],
      "execution_count": 216,
      "outputs": [
        {
          "output_type": "stream",
          "text": [
            "Please enter a category: country\n",
            "Please enter the word: china\n",
            "('country', 'china')\n"
          ],
          "name": "stdout"
        }
      ]
    },
    {
      "cell_type": "code",
      "metadata": {
        "id": "9A6YJmZuduld"
      },
      "source": [
        "from random import randint\n",
        "\n",
        "def starting_letters(answer):\n",
        "  \"\"\"\n",
        "  Generate the starting hints automatically\n",
        "\n",
        "  Parameters:\n",
        "  answer\n",
        "\n",
        "  Returns:\n",
        "  guess (list: str): Current guess of the user. \"*\" elements denotes characters yet to be guessed.\n",
        "  \"\"\"\n",
        "  length = len(answer)\n",
        "  num_hints = length // 4\n",
        "  hint_pos = [0] + random.sample(range(1, length), num_hints)\n",
        "\n",
        "  guess = [\"*\"] * length\n",
        "  for i in hint_pos:\n",
        "    guess[i] = answer[i]\n",
        "\n",
        "  return guess\n"
      ],
      "execution_count": 217,
      "outputs": []
    },
    {
      "cell_type": "code",
      "metadata": {
        "id": "HMOXOyv-bavn"
      },
      "source": [
        "def display_interface(category, answer, guess, num_wrong_guess, max_wrong_guess):\n",
        "  \"\"\"\n",
        "  Displays the game interface\n",
        "\n",
        "  Parameters:\n",
        "  category (str): Category for the answer\n",
        "  answer (str): Answer to the hangman\n",
        "  guess (list: str): Current guess of the user. \"*\" elements denotes characters yet to be guessed.\n",
        "\n",
        "  Returns:\n",
        "  None\n",
        "  \"\"\"\n",
        "  print(\"\"\"\n",
        "  ______      _   _                  ___  ___            \n",
        "| ___ \\    | | | |                 |  \\/  |            \n",
        "| |_/ /   _| |_| | __ _ _ __   __ _| .  . | __ _ _ __  \n",
        "|  __/ | | |  _  |/ _` | '_ \\ / _` | |\\/| |/ _` | '_ \\ \n",
        "| |  | |_| | | | | (_| | | | | (_| | |  | | (_| | | | |\n",
        "\\_|   \\__, \\_| |_/\\__,_|_| |_|\\__, \\_|  |_/\\__,_|_| |_|\n",
        "       __/ |                   __/ |                   \n",
        "      |___/                   |___/                    \n",
        "      \"\"\")\n",
        "  print(\"\\nCategory:\", category)\n",
        "  print(\"Number of wrong guesses:\", str(num_wrong_guess) + \"/\" + str(max_wrong_guess), \"\\n\")\n",
        "  for i in guess:\n",
        "    if i == \"*\":\n",
        "      print(\"_\", end = \" \")\n",
        "    else:\n",
        "      print(i.upper(), end = \" \")\n",
        "\n",
        "\n",
        "  pass"
      ],
      "execution_count": 218,
      "outputs": []
    },
    {
      "cell_type": "code",
      "metadata": {
        "id": "ZmrT5-2TbJNL",
        "colab": {
          "base_uri": "https://localhost:8080/"
        },
        "outputId": "579ca23e-3a88-4cd3-a95f-fbcc325ccbec"
      },
      "source": [
        "# Code to test display_interface function\n",
        "display_interface(\"Test Category\", \"Watermelon\", [\"*\", \"A\", \"*\", \"E\", \"*\", \"*\", \"E\", \"*\", \"*\", \"*\"], 3, 4)"
      ],
      "execution_count": 219,
      "outputs": [
        {
          "output_type": "stream",
          "text": [
            "\n",
            "  ______      _   _                  ___  ___            \n",
            "| ___ \\    | | | |                 |  \\/  |            \n",
            "| |_/ /   _| |_| | __ _ _ __   __ _| .  . | __ _ _ __  \n",
            "|  __/ | | |  _  |/ _` | '_ \\ / _` | |\\/| |/ _` | '_ \\ \n",
            "| |  | |_| | | | | (_| | | | | (_| | |  | | (_| | | | |\n",
            "\\_|   \\__, \\_| |_/\\__,_|_| |_|\\__, \\_|  |_/\\__,_|_| |_|\n",
            "       __/ |                   __/ |                   \n",
            "      |___/                   |___/                    \n",
            "      \n",
            "\n",
            "Category: Test Category\n",
            "Number of wrong guesses: 3/4 \n",
            "\n",
            "_ A _ E _ _ E _ _ _ "
          ],
          "name": "stdout"
        }
      ]
    },
    {
      "cell_type": "code",
      "metadata": {
        "id": "D_v5rEZUcuUj"
      },
      "source": [
        "def get_guess():\n",
        "  \"\"\"\n",
        "  Get a letter guess from the user\n",
        "\n",
        "  Parameters:\n",
        "  None\n",
        "\n",
        "  Returns:\n",
        "  letter (str): Uppercase letter from the user\n",
        "  \"\"\"\n",
        "\n",
        "  # Keep asking user for input until it is valid (only letters no other stuff)\n",
        "  # Convert all to lowercase before returning\n",
        "  while 1:\n",
        "    user_input = input(\"Please enter your guess: \")\n",
        "    if len(user_input) == 1 and user_input.isalpha():\n",
        "      break\n",
        "    else:\n",
        "      print(\"Invalid input! Please enter a letter.\")\n",
        "\n",
        "  return user_input.lower()"
      ],
      "execution_count": 220,
      "outputs": []
    },
    {
      "cell_type": "code",
      "metadata": {
        "id": "z5uxfYPrcpzQ",
        "colab": {
          "base_uri": "https://localhost:8080/"
        },
        "outputId": "ff8207ef-2cfb-4a86-cd99-15b713eda16f"
      },
      "source": [
        "# Code to test get_guess function\n",
        "print(\"Letter returned:\", get_guess())"
      ],
      "execution_count": 221,
      "outputs": [
        {
          "output_type": "stream",
          "text": [
            "Please enter your guess: \n",
            "Invalid input! Please enter a letter.\n",
            "Please enter your guess: 5\n",
            "Invalid input! Please enter a letter.\n",
            "Please enter your guess: a\n",
            "Letter returned: a\n"
          ],
          "name": "stdout"
        }
      ]
    },
    {
      "cell_type": "code",
      "metadata": {
        "id": "7MyNXLlymsi0"
      },
      "source": [
        "def check_guess(answer, guess, letter, num_wrong_guess):\n",
        "\n",
        "  \"\"\"\n",
        "  Take the user's letter guess and return the updated guess and number of wrong guesses based on the answer.\n",
        "\n",
        "  Parameters:\n",
        "  answer (str): Answer to the hangman\n",
        "  guess (list: str): Current guess of the user. \"*\" elements denotes characters yet to be guessed.\n",
        "  letter (str): User's current letter guess\n",
        "  num_wrong_guess (int): Current number of wrong guesses so far\n",
        "\n",
        "  Returns:\n",
        "  guess, num_wrong_guess (list: str, int): Updated guess of the user (\"*\" elements denotes characters yet to be guessed) and updated number of wrong guesses \n",
        "  \"\"\"\n",
        "\n",
        "  letter = letter.upper()\n",
        "  answer = answer.upper()\n",
        "    \n",
        "  if letter in answer:\n",
        "    for j in range(len(answer)):\n",
        "      if answer[j] == letter:\n",
        "        guess[j] = letter\n",
        "  else:\n",
        "    num_wrong_guess += 1\n",
        "    # Display turtle (if guess > 0)\n",
        "    turtle_hangman(num_wrong_guess)\n",
        "    \n",
        "  return guess, num_wrong_guess"
      ],
      "execution_count": 222,
      "outputs": []
    },
    {
      "cell_type": "code",
      "metadata": {
        "id": "aKkQLxb4ctbc",
        "colab": {
          "base_uri": "https://localhost:8080/"
        },
        "outputId": "28f16d5f-451b-4948-c6d1-0469ec8b9ead"
      },
      "source": [
        "# Code to test check_guess function\n",
        "print(check_guess(\"DAY\", [\"*\", \"*\", \"*\"], \"A\", 1))\n",
        "# Expected return [\"*\", \"A\", \"*\"], 1\n",
        "\n",
        "print(check_guess(\"day\", [\"*\", \"*\", \"*\"], \"A\", 1))\n",
        "# Expected return [\"*\", \"A\", \"*\"], 1\n",
        "\n",
        "print(check_guess(\"day\", [\"*\", \"*\", \"*\"], \"a\", 1))\n",
        "# Expected return [\"*\", \"A\", \"*\"], 1\n",
        "\n",
        "print(check_guess(\"DAY\", [\"*\", \"*\", \"*\"], \"M\", 1))\n",
        "# Expected return [\"*\", \"*\", \"*\"], 2\n",
        "\n"
      ],
      "execution_count": 223,
      "outputs": [
        {
          "output_type": "stream",
          "text": [
            "(['*', 'A', '*'], 1)\n",
            "(['*', 'A', '*'], 1)\n",
            "(['*', 'A', '*'], 1)\n",
            "Invisible turtle appears\n",
            "(['*', '*', '*'], 2)\n"
          ],
          "name": "stdout"
        }
      ]
    },
    {
      "cell_type": "code",
      "metadata": {
        "id": "_OtQV4hKmsfQ"
      },
      "source": [
        "def check_solved(answer, guess):\n",
        "  \"\"\"\n",
        "  Checks if player has solved the hangman question\n",
        "\n",
        "  Parameters:\n",
        "  answer (str): Answer to the hangman\n",
        "  guess (list: str): Current guess of the user. \"*\" elements denotes characters yet to be guessed.\n",
        "\n",
        "  Returns:\n",
        "  solved (int) - 0 if not solved, 1 if solved\n",
        "  \"\"\"\n",
        "  for i in range(len(guess)):\n",
        "    if guess[i].lower() != answer[i].lower():\n",
        "      return 0\n",
        "  \n",
        "  return 1"
      ],
      "execution_count": 224,
      "outputs": []
    },
    {
      "cell_type": "code",
      "metadata": {
        "id": "_8PtRj_bdjao",
        "colab": {
          "base_uri": "https://localhost:8080/"
        },
        "outputId": "4c10ca27-ffff-438c-938f-e942acf91cdf"
      },
      "source": [
        "# Code to test check_solved function\n",
        "print(check_solved(\"DAY\", [\"D\", \"A\", \"Y\"]))\n",
        "# Expect 1\n",
        "\n",
        "print(check_solved(\"day\", [\"D\", \"A\", \"Y\"]))\n",
        "# Expect 1\n",
        "\n",
        "print(check_solved(\"DAY\", [\"D\", \"*\", \"Y\"]))\n",
        "# Expect 0"
      ],
      "execution_count": 225,
      "outputs": [
        {
          "output_type": "stream",
          "text": [
            "1\n",
            "1\n",
            "0\n"
          ],
          "name": "stdout"
        }
      ]
    },
    {
      "cell_type": "code",
      "metadata": {
        "id": "f32_OhSDSCuj"
      },
      "source": [
        "def turtle_hangman(num_wrong_guess):\n",
        "  \"\"\"\n",
        "  Draw the hangman picture using turtle based on number of wrong guesses.\n",
        "\n",
        "  Parameters:\n",
        "  num_wrong_guess (int): Current number of wrong guesses so far\n",
        "\n",
        "  Returns:\n",
        "  None\n",
        "  \"\"\"\n",
        "  print(\"Invisible turtle appears\")\n",
        "  pass"
      ],
      "execution_count": 226,
      "outputs": []
    },
    {
      "cell_type": "code",
      "metadata": {
        "id": "zmbvs1dkdv41",
        "colab": {
          "base_uri": "https://localhost:8080/"
        },
        "outputId": "ba3684ef-0f27-4c76-bf82-51a53a6137a3"
      },
      "source": [
        "# Code to test turtle_hangman function\n",
        "turtle_hangman(3)"
      ],
      "execution_count": 227,
      "outputs": [
        {
          "output_type": "stream",
          "text": [
            "Invisible turtle appears\n"
          ],
          "name": "stdout"
        }
      ]
    },
    {
      "cell_type": "code",
      "metadata": {
        "id": "w5HUXXHDz2XZ"
      },
      "source": [
        "from IPython.display import clear_output\n",
        "\n",
        "def main():\n",
        "  # Game welcome screen\n",
        "  # ASCII Art generated from http://patorjk.com/software/taag/#p=display&f=Doom&t=PyHangMan\n",
        "  print(\"\"\"\n",
        "  ______      _   _                  ___  ___            \n",
        "| ___ \\    | | | |                 |  \\/  |            \n",
        "| |_/ /   _| |_| | __ _ _ __   __ _| .  . | __ _ _ __  \n",
        "|  __/ | | |  _  |/ _` | '_ \\ / _` | |\\/| |/ _` | '_ \\ \n",
        "| |  | |_| | | | | (_| | | | | (_| | |  | | (_| | | | |\n",
        "\\_|   \\__, \\_| |_/\\__,_|_| |_|\\__, \\_|  |_/\\__,_|_| |_|\n",
        "       __/ |                   __/ |                   \n",
        "      |___/                   |___/                    \n",
        "      \"\"\")\n",
        "\n",
        "  # Game settings\n",
        "  max_wrong_guess = 2\n",
        "\n",
        "  # Show main menu and get user option\n",
        "  option = main_menu()\n",
        "\n",
        "  # Get answer based on user selection:\n",
        "  if option == 1:\n",
        "    category, answer = generate_answer()\n",
        "  elif option == 2:\n",
        "    category, answer = user_answer()\n",
        "  else:\n",
        "    raise Exception(\"Unexpected 'option' value\")\n",
        "  \n",
        "  # Variables to keep track of current gameplay\n",
        "  guess = starting_letters(answer)\n",
        "  num_wrong_guess = 0\n",
        "\n",
        "  while 1:\n",
        "    # https://stackoverflow.com/questions/24816237/ipython-notebook-clear-cell-output-in-code\n",
        "    clear_output(wait=False)\n",
        "\n",
        "    # Display game interface\n",
        "    display_interface(category, answer, guess, num_wrong_guess, max_wrong_guess)\n",
        "\n",
        "    # Get user's guess\n",
        "    letter = get_guess()\n",
        "\n",
        "    # Check user's guess\n",
        "    guess, num_wrong_guess = check_guess(answer, guess, letter, num_wrong_guess)\n",
        "\n",
        "    # Check if solved\n",
        "    solved = check_solved(answer, guess)\n",
        "\n",
        "    if solved:\n",
        "      clear_output(wait=False)\n",
        "      display_interface(category, answer, guess, num_wrong_guess, max_wrong_guess)\n",
        "      print(\"\\n\\nCongratulations you solved it!\")\n",
        "      break\n",
        "\n",
        "    if num_wrong_guess >= max_wrong_guess:\n",
        "      clear_output(wait=False)\n",
        "      display_interface(category, answer, guess, num_wrong_guess, max_wrong_guess)\n",
        "      print(\"\\n\\n===============\")\n",
        "      print(\"  GAME OVER!\")\n",
        "      print(\"===============\")\n",
        "      print(\"The answer was\", answer.lower())\n",
        "      break"
      ],
      "execution_count": 228,
      "outputs": []
    },
    {
      "cell_type": "code",
      "metadata": {
        "id": "pxdhwxWaTUkR",
        "colab": {
          "base_uri": "https://localhost:8080/"
        },
        "outputId": "1e941c9b-7ab6-4036-ae31-74839a964d74"
      },
      "source": [
        "main()"
      ],
      "execution_count": 230,
      "outputs": [
        {
          "output_type": "stream",
          "text": [
            "\n",
            "  ______      _   _                  ___  ___            \n",
            "| ___ \\    | | | |                 |  \\/  |            \n",
            "| |_/ /   _| |_| | __ _ _ __   __ _| .  . | __ _ _ __  \n",
            "|  __/ | | |  _  |/ _` | '_ \\ / _` | |\\/| |/ _` | '_ \\ \n",
            "| |  | |_| | | | | (_| | | | | (_| | |  | | (_| | | | |\n",
            "\\_|   \\__, \\_| |_/\\__,_|_| |_|\\__, \\_|  |_/\\__,_|_| |_|\n",
            "       __/ |                   __/ |                   \n",
            "      |___/                   |___/                    \n",
            "      \n",
            "\n",
            "Category: animal\n",
            "Number of wrong guesses: 1/2 \n",
            "\n",
            "R A B B I T \n",
            "\n",
            "Congratulations you solved it!\n"
          ],
          "name": "stdout"
        }
      ]
    }
  ]
}